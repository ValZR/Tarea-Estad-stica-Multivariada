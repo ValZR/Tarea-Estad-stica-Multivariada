{
  "nbformat": 4,
  "nbformat_minor": 0,
  "metadata": {
    "colab": {
      "provenance": []
    },
    "kernelspec": {
      "name": "python3",
      "display_name": "Python 3"
    },
    "language_info": {
      "name": "python"
    }
  },
  "cells": [
    {
      "cell_type": "code",
      "source": [
        "import numpy as np"
      ],
      "metadata": {
        "id": "PtzceftzDut_"
      },
      "execution_count": null,
      "outputs": []
    },
    {
      "cell_type": "code",
      "source": [
        "X=np.array([[1,0,0,0],[1,1,0,0],[1,1,1,0],[1,1,1,1]])\n",
        "X"
      ],
      "metadata": {
        "colab": {
          "base_uri": "https://localhost:8080/"
        },
        "id": "VPLIr2S3D3wK",
        "outputId": "3bd49730-4214-4fa0-f073-64aff383b492"
      },
      "execution_count": null,
      "outputs": [
        {
          "output_type": "execute_result",
          "data": {
            "text/plain": [
              "array([[1, 0, 0, 0],\n",
              "       [1, 1, 0, 0],\n",
              "       [1, 1, 1, 0],\n",
              "       [1, 1, 1, 1]])"
            ]
          },
          "metadata": {},
          "execution_count": 11
        }
      ]
    },
    {
      "cell_type": "code",
      "source": [
        "#Matriz de cov\n",
        "X_media = X - np.mean(X , axis = 0)\n",
        "S = np.cov(X_media, rowvar = False)\n",
        "print(S)"
      ],
      "metadata": {
        "colab": {
          "base_uri": "https://localhost:8080/"
        },
        "id": "Pc4e15tlD8Js",
        "outputId": "fe5f5c7e-59c9-441c-ebc9-69ac5c5116dc"
      },
      "execution_count": null,
      "outputs": [
        {
          "output_type": "stream",
          "name": "stdout",
          "text": [
            "[[0.         0.         0.         0.        ]\n",
            " [0.         0.25       0.16666667 0.08333333]\n",
            " [0.         0.16666667 0.33333333 0.16666667]\n",
            " [0.         0.08333333 0.16666667 0.25      ]]\n"
          ]
        }
      ]
    },
    {
      "cell_type": "code",
      "source": [
        "# Vamos a calcular eigenvalores y eigenvectores\n",
        "eigen_val, eigen_vec = np.linalg.eigh(S)\n",
        "eigen_val"
      ],
      "metadata": {
        "colab": {
          "base_uri": "https://localhost:8080/"
        },
        "id": "Z0TnEhGOEAvw",
        "outputId": "48b21a49-62fc-4af5-c9c8-d77b371785b5"
      },
      "execution_count": null,
      "outputs": [
        {
          "output_type": "execute_result",
          "data": {
            "text/plain": [
              "array([0.        , 0.09763107, 0.16666667, 0.56903559])"
            ]
          },
          "metadata": {},
          "execution_count": 13
        }
      ]
    },
    {
      "cell_type": "code",
      "source": [
        "A=np.array([[3,2,1],[2,4,2],[1,2,3]])\n",
        "A"
      ],
      "metadata": {
        "colab": {
          "base_uri": "https://localhost:8080/"
        },
        "id": "D3KJNSChELO3",
        "outputId": "55abe72b-1628-453f-ddc9-9125784290ea"
      },
      "execution_count": null,
      "outputs": [
        {
          "output_type": "execute_result",
          "data": {
            "text/plain": [
              "array([[3, 2, 1],\n",
              "       [2, 4, 2],\n",
              "       [1, 2, 3]])"
            ]
          },
          "metadata": {},
          "execution_count": 14
        }
      ]
    },
    {
      "cell_type": "code",
      "source": [
        "#Matriz de cov\n",
        "A_media = A - np.mean(A , axis = 0)\n",
        "SA = np.cov(A_media, rowvar = False)\n",
        "print(SA)\n"
      ],
      "metadata": {
        "colab": {
          "base_uri": "https://localhost:8080/"
        },
        "id": "9H9u_sOqEOjK",
        "outputId": "c8e453e9-d4a2-4e54-e0d7-b655322e7e93"
      },
      "execution_count": null,
      "outputs": [
        {
          "output_type": "stream",
          "name": "stdout",
          "text": [
            "[[ 1.          0.         -1.        ]\n",
            " [ 0.          1.33333333  0.        ]\n",
            " [-1.          0.          1.        ]]\n"
          ]
        }
      ]
    },
    {
      "cell_type": "code",
      "execution_count": null,
      "metadata": {
        "colab": {
          "base_uri": "https://localhost:8080/"
        },
        "id": "sVXiNGH4DogU",
        "outputId": "ea968918-4372-4746-f11e-40262c77de8d"
      },
      "outputs": [
        {
          "output_type": "execute_result",
          "data": {
            "text/plain": [
              "array([0.        , 1.33333333, 2.        ])"
            ]
          },
          "metadata": {},
          "execution_count": 16
        }
      ],
      "source": [
        "# Vamos a calcular eigenvalores y eigenvectores\n",
        "eigen_val, eigen_vec = np.linalg.eigh(SA)\n",
        "eigen_val"
      ]
    }
  ]
}